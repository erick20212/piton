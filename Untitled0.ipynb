{
  "nbformat": 4,
  "nbformat_minor": 0,
  "metadata": {
    "colab": {
      "provenance": [],
      "authorship_tag": "ABX9TyO1e6Nn9XDYdDDy1ONpl0lY",
      "include_colab_link": true
    },
    "kernelspec": {
      "name": "python3",
      "display_name": "Python 3"
    },
    "language_info": {
      "name": "python"
    }
  },
  "cells": [
    {
      "cell_type": "markdown",
      "metadata": {
        "id": "view-in-github",
        "colab_type": "text"
      },
      "source": [
        "<a href=\"https://colab.research.google.com/github/erick20212/piton/blob/main/Untitled0.ipynb\" target=\"_parent\"><img src=\"https://colab.research.google.com/assets/colab-badge.svg\" alt=\"Open In Colab\"/></a>"
      ]
    },
    {
      "cell_type": "markdown",
      "source": [
        "# Nueva sección"
      ],
      "metadata": {
        "id": "hjVJrI4Nt8Yq"
      }
    },
    {
      "cell_type": "code",
      "execution_count": null,
      "metadata": {
        "id": "vIeHJ5WbtPj-"
      },
      "outputs": [],
      "source": []
    },
    {
      "cell_type": "code",
      "source": [
        "from Crypto.PublicKey import RSA\n",
        "from Crypto.Cipher import AES\n",
        "from Crypto.Random import get_random_bytes\n",
        "import rsa\n",
        "\n",
        "# Cifrado y descifrado con AES\n",
        "def cifrar_aes(texto, clave_aes):\n",
        "    cipher = AES.new(clave_aes, AES.MODE_GCM)\n",
        "    ciphertext, tag = cipher.encrypt_and_digest(texto.encode())\n",
        "    return cipher.nonce, tag, ciphertext\n",
        "\n",
        "def descifrar_aes(nonce, tag, ciphertext, clave_aes):\n",
        "    cipher = AES.new(clave_aes, AES.MODE_GCM, nonce=nonce)\n",
        "    return cipher.decrypt_and_verify(ciphertext, tag).decode()\n",
        "\n",
        "# Cifrado y descifrado con RSA\n",
        "def generar_claves_rsa():\n",
        "    # Genera las claves públicas y privadas\n",
        "    public_key, private_key = rsa.newkeys(2048)\n",
        "    return public_key, private_key\n",
        "\n",
        "def cifrar_rsa(clave_publica, clave_aes):\n",
        "    return rsa.encrypt(clave_aes, clave_publica)\n",
        "\n",
        "def descifrar_rsa(clave_privada, clave_encriptada):\n",
        "    return rsa.decrypt(clave_encriptada, clave_privada)\n",
        "\n",
        "# Ejemplo de uso\n",
        "# Datos sensibles: número de tarjeta de crédito\n",
        "tarjeta_credito = \"1234 5678 9876 5432\"\n",
        "\n",
        "# 1. Generar una clave AES\n",
        "clave_aes = get_random_bytes(32)  # 256 bits\n",
        "\n",
        "# 2. Cifrar el número de tarjeta de crédito con AES\n",
        "nonce, tag, ciphertext = cifrar_aes(tarjeta_credito, clave_aes)\n",
        "print(\"Número de tarjeta cifrado (AES):\", ciphertext)\n",
        "\n",
        "# 3. Generar las claves RSA\n",
        "clave_publica, clave_privada = generar_claves_rsa()\n",
        "\n",
        "# 4. Cifrar la clave AES con la clave pública RSA\n",
        "clave_aes_encriptada = cifrar_rsa(clave_publica, clave_aes)\n",
        "print(\"Clave AES cifrada con RSA:\", clave_aes_encriptada)\n",
        "\n",
        "# 5. Descifrar la clave AES con la clave privada RSA\n",
        "clave_aes_descifrada = descifrar_rsa(clave_privada, clave_aes_encriptada)\n",
        "print(\"Clave AES descifrada con RSA:\", clave_aes_descifrada)\n",
        "\n",
        "# 6. Descifrar el número de tarjeta de crédito con la clave AES descifrada\n",
        "tarjeta_descifrada = descifrar_aes(nonce, tag, ciphertext, clave_aes_descifrada)\n",
        "print(\"Número de tarjeta de crédito descifrado:\", tarjeta_descifrada)\n",
        "\n",
        "\n"
      ],
      "metadata": {
        "colab": {
          "base_uri": "https://localhost:8080/"
        },
        "id": "dQF2dqHNuAsj",
        "outputId": "4c0cf030-0760-47be-9c01-d8c458a557ac"
      },
      "execution_count": 2,
      "outputs": [
        {
          "output_type": "stream",
          "name": "stdout",
          "text": [
            "Número de tarjeta cifrado (AES): b'r2`_h#\\xbb\\x81\\xc6_(`\\x82\\x8c\\xaa\\xd5\\x18^\\xa0'\n",
            "Clave AES cifrada con RSA: b\"fx\\x97\\xa5'\\x89\\xd4dY\\xb4\\xce\\n\\x94\\\\\\xcf\\xc4mY\\x8c}{\\xaa\\xb3\\xe1BWBi\\xca\\xacz`\\x95z\\x1d\\x12`@\\xf5\\xee\\xcb\\xd4\\xd0\\xa8\\xb9P>gP\\x98;=\\xc3\\xac\\xd4\\xa3\\x13\\xe9)R(\\xc3XQtV\\xe5IR*\\xf1\\x8d\\xb8\\t\\xa5\\xc7\\xce\\x99\\x9c\\xfd\\x98w\\x87A[\\xcd\\t\\x18W\\xf8\\xeb\\xa8\\xec\\x07\\xc4qw,ta\\x9fw\\xd5\\xe5\\xa4:\\xe0\\xcb\\x89P\\xaa(/h&\\x9d\\xe5\\xadv.8\\xe4#\\x08pPX<\\xad\\xe7\\xa80\\xef+\\xfdK\\xb1^\\x05\\xf1\\xb8na=\\x1eN\\xd4\\xf7o.\\x89b4\\xdb\\xe5\\xbc\\xf8\\x87\\xd9\\xf2?sD\\xd9$\\xde7\\x90\\x868\\x08\\xe4o_\\x80\\x8d\\xc7\\xd1\\xfd\\xa1\\x1fT\\xc5\\xa1u\\x19\\xb5FQ0\\x01PmiI}\\x81\\xa2\\x88-\\xf6TO\\x12\\xa4p@\\x1f\\xc3\\x80\\x81*\\n*L\\xc0\\x8c'\\xe7\\xbdH\\xf3\\xa8\\xc0\\xbb\\n\\x1e\\xaez\\xbc3Rk;\\xc2O\\xe2\\xa2\\xcc\\x9e\\xb9\\xff\\x0e\\xd1\\xd0\\xc4I\\xc0\\x02\\xef\\xd9\\xbbV#\\xd5\\xc0\"\n",
            "Clave AES descifrada con RSA: b'\\x07:\\x9c\\xfe#\\xf8\\xa4g\\x1f\\x1d1\\xef\\x80\\xbfY\\x06\\xf3\\x1b\\xf3%\\xf9rM\\x0c=>\\x7f\\xc5\\xc5\\x02\\xecq'\n",
            "Número de tarjeta de crédito descifrado: 1234 5678 9876 5432\n"
          ]
        }
      ]
    },
    {
      "cell_type": "markdown",
      "source": [
        "# Nueva sección"
      ],
      "metadata": {
        "id": "Hdr2nr_zt0oN"
      }
    }
  ]
}